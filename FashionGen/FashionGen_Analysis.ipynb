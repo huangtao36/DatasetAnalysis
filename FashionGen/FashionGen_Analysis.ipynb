{
 "cells": [
  {
   "cell_type": "markdown",
   "metadata": {},
   "source": [
    "# FashionGen Dataset\n",
    "\n",
    "- 官网： [https://www.fashion-gen.com/](https://www.fashion-gen.com/)\n",
    "- Paper: [Fashion-Gen: The Generative Fashion Dataset and Challenge](https://arxiv.org/pdf/1806.08317.pdf)\n",
    "- 相关代码： [FashionGenAttnGAN](https://github.com/menardai/FashionGenAttnGAN)\n",
    "\n",
    "FashionGen 数据集下载需要注册并联系申请。下载后的数据集包含两个文件：  \n",
    "- fashiongen_256_256_train.h5 (13.3G)\n",
    "- fashiongen_256_256_validation.h5 (1.66G)"
   ]
  },
  {
   "cell_type": "code",
   "execution_count": 1,
   "metadata": {},
   "outputs": [
    {
     "name": "stdout",
     "output_type": "stream",
     "text": [
      "Populating the interactive namespace from numpy and matplotlib\n"
     ]
    }
   ],
   "source": [
    "import os\n",
    "import h5py\n",
    "import numpy as np\n",
    "\n",
    "%pylab inline"
   ]
  },
  {
   "cell_type": "markdown",
   "metadata": {},
   "source": [
    "## 文件读取"
   ]
  },
  {
   "cell_type": "code",
   "execution_count": 2,
   "metadata": {},
   "outputs": [],
   "source": [
    "data_dir = '/home/OpenResource/Datasets/FashionGEN'\n",
    "\n",
    "train_h5_filename = os.path.join(data_dir, 'fashiongen_256_256_train.h5')\n",
    "test_h5_filename = os.path.join(data_dir, 'fashiongen_256_256_validation.h5')\n",
    "\n",
    "train_file_h5 = h5py.File(train_h5_filename, mode='r')\n",
    "test_file_h5 = h5py.File(test_h5_filename, mode='r')"
   ]
  },
  {
   "cell_type": "markdown",
   "metadata": {},
   "source": [
    "## 关键字检测"
   ]
  },
  {
   "cell_type": "code",
   "execution_count": 5,
   "metadata": {},
   "outputs": [
    {
     "data": {
      "text/plain": [
       "<KeysViewHDF5 ['index', 'index_2', 'input_brand', 'input_category', 'input_composition', 'input_concat_description', 'input_department', 'input_description', 'input_gender', 'input_image', 'input_msrpUSD', 'input_name', 'input_pose', 'input_productID', 'input_season', 'input_subcategory']>"
      ]
     },
     "execution_count": 5,
     "metadata": {},
     "output_type": "execute_result"
    }
   ],
   "source": [
    "train_file_h5.keys()"
   ]
  },
  {
   "cell_type": "markdown",
   "metadata": {},
   "source": [
    "- index, \n",
    "- index_2, \n",
    "- input_brand 品牌， \n",
    "- input_category 服装类别， \n",
    "- input_composition， 服装成分,  \n",
    "- input_concat_description 一长串的描述，几句话   \n",
    "- input_department 哪一部分，是‘CLOTHING’还是 ‘ACCESSORIES’、‘BAGS’等  \n",
    "- input_description 相对input_concat_description较简洁有效的描述  \n",
    "- input_gender 性别  \n",
    "- input_image 图像， (260490, 256, 256, 3)， 0-255   \n",
    "- input_msrpUSD What is it?*  \n",
    "- input_name 带颜色和款式的name  \n",
    "- input_pose 字符串，不是关键点，标记姿态，每张图片有四个姿态  \n",
    "- input_productID   \n",
    "- input_season  \n",
    "- input_subcategory 款式\n",
    "\n",
    "注意： 所有字符串都是带编码格式的，使用 .decode('utf-8', errors='ignore') 转回不带格式的字符串"
   ]
  },
  {
   "cell_type": "markdown",
   "metadata": {},
   "source": [
    "## 统计数据量"
   ]
  },
  {
   "cell_type": "code",
   "execution_count": 4,
   "metadata": {},
   "outputs": [
    {
     "name": "stdout",
     "output_type": "stream",
     "text": [
      "260490\n",
      "32528\n"
     ]
    }
   ],
   "source": [
    "print(len(train_file_h5['input_description']))\n",
    "print(len(test_file_h5['input_description']))"
   ]
  },
  {
   "cell_type": "markdown",
   "metadata": {},
   "source": [
    "## 统计类别数量及图片数量"
   ]
  },
  {
   "cell_type": "code",
   "execution_count": null,
   "metadata": {},
   "outputs": [],
   "source": [
    "category = list()\n",
    "for i in range(260490):\n",
    "    category.append(train_file_h5['input_category'][i][0].decode('utf-8'))"
   ]
  },
  {
   "cell_type": "code",
   "execution_count": 10,
   "metadata": {},
   "outputs": [],
   "source": [
    "category = list()\n",
    "for i in range(32528):\n",
    "    category.append(test_file_h5['input_category'][i][0].decode('utf-8'))"
   ]
  },
  {
   "cell_type": "code",
   "execution_count": 11,
   "metadata": {},
   "outputs": [
    {
     "data": {
      "text/plain": [
       "45"
      ]
     },
     "execution_count": 11,
     "metadata": {},
     "output_type": "execute_result"
    }
   ],
   "source": [
    "# 统计类别数量\n",
    "len(list(set(category)))"
   ]
  },
  {
   "cell_type": "code",
   "execution_count": 12,
   "metadata": {
    "scrolled": true
   },
   "outputs": [
    {
     "data": {
      "text/plain": [
       "Counter({'JACKETS & COATS': 4357,\n",
       "         'JEANS': 1694,\n",
       "         'PANTS': 2910,\n",
       "         'SHIRTS': 1418,\n",
       "         'DRESSES': 1184,\n",
       "         'SUITS & BLAZERS': 355,\n",
       "         'SWEATERS': 5602,\n",
       "         'SHORTS': 925,\n",
       "         'TIES': 30,\n",
       "         'TOPS': 5944,\n",
       "         'HATS': 571,\n",
       "         'SKIRTS': 872,\n",
       "         'JUMPSUITS': 78,\n",
       "         'SWIMWEAR': 26,\n",
       "         'SCARVES': 151,\n",
       "         'LINGERIE': 161,\n",
       "         'BELTS & SUSPENDERS': 45,\n",
       "         'CLUTCHES & POUCHES': 152,\n",
       "         'SHOULDER BAGS': 867,\n",
       "         'FINE JEWELRY': 57,\n",
       "         'BACKPACKS': 349,\n",
       "         'FLATS': 476,\n",
       "         'BOOTS': 570,\n",
       "         'JEWELRY': 603,\n",
       "         'SNEAKERS': 1306,\n",
       "         'SANDALS': 443,\n",
       "         'BRIEFCASES': 11,\n",
       "         'SOCKS': 33,\n",
       "         'TOTE BAGS': 279,\n",
       "         'LOAFERS': 60,\n",
       "         'MESSENGER BAGS & SATCHELS': 65,\n",
       "         'HEELS': 238,\n",
       "         'DUFFLE & TOP HANDLE BAGS': 192,\n",
       "         'KEYCHAINS': 24,\n",
       "         'MESSENGER BAGS': 12,\n",
       "         'LACE UPS': 78,\n",
       "         'BLANKETS': 2,\n",
       "         'POUCHES & DOCUMENT HOLDERS': 15,\n",
       "         'POCKET SQUARES & TIE BARS': 2,\n",
       "         'EYEWEAR': 314,\n",
       "         'GLOVES': 8,\n",
       "         'BAG ACCESSORIES': 14,\n",
       "         'ESPADRILLES': 18,\n",
       "         'UNDERWEAR & LOUNGEWEAR': 5,\n",
       "         'DUFFLE BAGS': 12})"
      ]
     },
     "execution_count": 12,
     "metadata": {},
     "output_type": "execute_result"
    }
   ],
   "source": [
    "# 每个类别下的图片数量统计\n",
    "from collections import Counter\n",
    "Counter(category)"
   ]
  },
  {
   "cell_type": "markdown",
   "metadata": {},
   "source": [
    "Counter({'SHIRTS': 11398,  \n",
    "         'SWEATERS': 44591,  \n",
    "         'JEANS': 13586,  \n",
    "         'PANTS': 23230,  \n",
    "         'TOPS': 47764,  \n",
    "         'SUITS & BLAZERS': 2845,  \n",
    "         'SHORTS': 7416,   \n",
    "         'JACKETS & COATS': 35035,  \n",
    "         'TIES': 253,  \n",
    "         'HATS': 4545,  \n",
    "         'SKIRTS': 6909,  \n",
    "         'JUMPSUITS': 610,  \n",
    "         'SWIMWEAR': 201,  \n",
    "         'DRESSES': 9458,  \n",
    "         'BELTS & SUSPENDERS': 335,  \n",
    "         'LINGERIE': 1314,  \n",
    "         'SCARVES': 1138,  \n",
    "         'GLOVES': 66,  \n",
    "         'FINE JEWELRY': 475,   \n",
    "         'CLUTCHES & POUCHES': 1120,  \n",
    "         'BLANKETS': 17,  \n",
    "         'JEWELRY': 4933,  \n",
    "         'BACKPACKS': 2858,  \n",
    "         'SHOULDER BAGS': 6952,  \n",
    "         'UNDERWEAR & LOUNGEWEAR': 23,  \n",
    "         'KEYCHAINS': 202,  \n",
    "         'TOTE BAGS': 2281,   \n",
    "         'BOAT SHOES & MOCCASINS': 12,  \n",
    "         'POUCHES & DOCUMENT HOLDERS': 121,  \n",
    "         'SNEAKERS': 10478,  \n",
    "         'DUFFLE & TOP HANDLE BAGS': 1533,  \n",
    "         'EYEWEAR': 2494,  \n",
    "         'BOOTS': 4515,  \n",
    "         'FLATS': 3855,  \n",
    "         'LACE UPS': 631,  \n",
    "         'MONKSTRAPS': 29,  \n",
    "         'LOAFERS': 481,   \n",
    "         'SOCKS': 250,  \n",
    "         'POCKET SQUARES & TIE BARS': 23,   \n",
    "         'SANDALS': 3515,  \n",
    "         'HEELS': 1931,  \n",
    "         'MESSENGER BAGS & SATCHELS': 530,  \n",
    "         'ESPADRILLES': 119,  \n",
    "         'DUFFLE BAGS': 120,  \n",
    "         'BAG ACCESSORIES': 110,  \n",
    "         'TRAVEL BAGS': 29,  \n",
    "         'MESSENGER BAGS': 88,  \n",
    "         'BRIEFCASES': 71})  "
   ]
  },
  {
   "cell_type": "markdown",
   "metadata": {},
   "source": [
    "## 标注字符串读取示例"
   ]
  },
  {
   "cell_type": "code",
   "execution_count": 13,
   "metadata": {},
   "outputs": [
    {
     "data": {
      "text/plain": [
       "'TOPS'"
      ]
     },
     "execution_count": 13,
     "metadata": {},
     "output_type": "execute_result"
    }
   ],
   "source": [
    "train_file_h5['input_category'][78777][0].decode('utf-8')"
   ]
  },
  {
   "cell_type": "code",
   "execution_count": 5,
   "metadata": {},
   "outputs": [
    {
     "data": {
      "text/plain": [
       "'Long sleeve coated denim shirt in indigo blue. Irregular overdye effect throughout in black. Spread collar. Flap pockets at breast, one with metallic logo piece. Press-stud closure at front. Tonal stitching. Three press-studs at barrel cuffs.'"
      ]
     },
     "execution_count": 5,
     "metadata": {},
     "output_type": "execute_result"
    }
   ],
   "source": [
    "train_file_h5['input_description'][0][0].decode('utf-8')"
   ]
  },
  {
   "cell_type": "code",
   "execution_count": 6,
   "metadata": {},
   "outputs": [
    {
     "data": {
      "text/plain": [
       "'Long sleeve coated denim shirt in indigo blue. Irregular overdye effect throughout in black. Spread collar. Flap pockets at breast, one with metallic logo piece. Press-stud closure at front. Tonal stitching. Three press-studs at barrel cuffs. Long sleeve suede jacket in black. Tonal grained leather paneling throughout. Stand collar. Zip closure and zippered welt pockets at front. Zippered vents at back hem. Welt pockets at interior. Fully lined. Tonal stitching. Zippered expansion panels at sleeve cuffs. Slim-fit cropped pleated wool trousers in black. Four-pocket styling. Tonal stitching. Button-fly.'"
      ]
     },
     "execution_count": 6,
     "metadata": {},
     "output_type": "execute_result"
    }
   ],
   "source": [
    "train_file_h5['input_concat_description'][0][0].decode('utf-8')"
   ]
  },
  {
   "cell_type": "markdown",
   "metadata": {},
   "source": [
    "## 图片显示"
   ]
  },
  {
   "cell_type": "code",
   "execution_count": 22,
   "metadata": {},
   "outputs": [
    {
     "data": {
      "text/plain": [
       "<matplotlib.image.AxesImage at 0x7f7f865fa898>"
      ]
     },
     "execution_count": 22,
     "metadata": {},
     "output_type": "execute_result"
    },
    {
     "data": {
      "image/png": "[encoded data removed]",
      "text/plain": [
       "<Figure size 432x288 with 1 Axes>"
      ]
     },
     "metadata": {
      "needs_background": "light"
     },
     "output_type": "display_data"
    }
   ],
   "source": [
    "imshow(train_file_h5['input_image'][0].astype(uint8))"
   ]
  },
  {
   "cell_type": "code",
   "execution_count": 14,
   "metadata": {},
   "outputs": [],
   "source": [
    "import random"
   ]
  },
  {
   "cell_type": "code",
   "execution_count": 21,
   "metadata": {},
   "outputs": [],
   "source": [
    "idx = [random.randint(0,260490) for _ in range(9)]"
   ]
  },
  {
   "cell_type": "code",
   "execution_count": 23,
   "metadata": {},
   "outputs": [],
   "source": [
    "import matplotlib.pylab as plt"
   ]
  },
  {
   "cell_type": "code",
   "execution_count": 34,
   "metadata": {},
   "outputs": [
    {
     "data": {
      "image/png": "[encoded data removed]",
      "text/plain": [
       "<Figure size 432x288 with 9 Axes>"
      ]
     },
     "metadata": {},
     "output_type": "display_data"
    }
   ],
   "source": [
    "for i in range(9):\n",
    "    ii = idx[i]\n",
    "    img = train_file_h5['input_image'][ii].astype(uint8)\n",
    "#     title=train_file_h5['input_description'][ii][0].decode('utf-8', errors='ignore') \n",
    "    title = train_file_h5['input_category'][ii][0].decode('utf-8')\n",
    "    #行，列，索引\n",
    "    plt.subplot(3,3,i+1)\n",
    "    plt.imshow(img)\n",
    "    plt.title(title,fontsize=8)\n",
    "    plt.xticks([])\n",
    "    plt.yticks([])\n",
    "# plt.show()\n",
    "plt.rcParams['savefig.dpi'] = 300 #图片像素\n",
    "plt.savefig('./img.png')"
   ]
  },
  {
   "cell_type": "code",
   "execution_count": 29,
   "metadata": {},
   "outputs": [
    {
     "name": "stdout",
     "output_type": "stream",
     "text": [
      "0-152775: Straight-leg Japanese denim jeans in black. Four-pocket styling. Raw edge at cuffs. Zip-fly. Tonal stitching. Approx. 6.75\" leg opening.\n",
      "1-80627: Long sleeve jacquard knit bomber jacket in black. Rib knit stand collar, cuffs, and hem. Concealed zip closure with press-stud placket at front. Welt pockets at waist. Raglan sleeves. Asymmetric hem. Unlined. Tonal stitching.\n",
      "2-82295: Long sleeve hoodie in 'hustler' grey. Beige drawstring at hood. Ribbed sleeve cuffs. Fleece lining. Tonal stitching.\n",
      "3-155846: Buffed leather slip-on sneakers in black. Round toe. Signature safety pin hardware at vamp. Elasticized gusset at sides of tongue. Padded collar. Treaded rubber sole in white featuring rubberized logo at heel. Silver-tone hardware. Tonal stitching.\n",
      "4-12381: Cropped relaxed-fit sarouel pants in black. Four-pocket styling. Elasticized waistband with tonal drawstring. Pleat feature at kneecaps. Tonal stitching.\n",
      "5-157450: Long sleeve technical satin jacket in black. Trim in orange throughout. Stand collar. Two-way zip closure at front. Logo printed in silver-tone at chest and upper sleeve. Zippered pockets at waist. Signature stripes in metallic silver-tone at body and sleeve. Raglan sleeves. Elasticized cuffs and hem. Unlined. Tonal stitching.\n",
      "6-80746: Long sleeve woven jacket in charcoal grey. Peaked lapel collar. Zip closure in white at front. Flap pockets at body. Raglan sleeves. Central vent at back hem. Tonal stitching.\n",
      "7-193990: Long sleeve velvet bomber jacket in black. Rib knit stand collar, cuffs, and hem striped in black and metallic silver-tone. Zip closure at front. Logo appliqu at bust. Welt pockets at waist. Zippered vents at cuffs. Fully lined. Silver-tone hardware. Tonal stitching.\n",
      "8-228736: Rubber slip-on sandals in white. Open round toe. Signature multicolor stripes printed at vamp. Moulded footbed. Tonal rubber sole. Tonal stitching.\n"
     ]
    }
   ],
   "source": [
    "for i in range(9):\n",
    "    ii = idx[i]\n",
    "    caption=train_file_h5['input_description'][ii][0].decode('utf-8', errors='ignore') \n",
    "    print(f'{i}-{ii}: {caption}')"
   ]
  }
 ],
 "metadata": {
  "kernelspec": {
   "display_name": "Python 3",
   "language": "python",
   "name": "python3"
  },
  "language_info": {
   "codemirror_mode": {
    "name": "ipython",
    "version": 3
   },
   "file_extension": ".py",
   "mimetype": "text/x-python",
   "name": "python",
   "nbconvert_exporter": "python",
   "pygments_lexer": "ipython3",
   "version": "3.7.0"
  },
  "toc": {
   "base_numbering": 1,
   "nav_menu": {},
   "number_sections": true,
   "sideBar": true,
   "skip_h1_title": true,
   "title_cell": "Table of Contents",
   "title_sidebar": "Contents",
   "toc_cell": false,
   "toc_position": {
    "height": "calc(100% - 180px)",
    "left": "10px",
    "top": "150px",
    "width": "165px"
   },
   "toc_section_display": true,
   "toc_window_display": true
  }
 },
 "nbformat": 4,
 "nbformat_minor": 2
}
